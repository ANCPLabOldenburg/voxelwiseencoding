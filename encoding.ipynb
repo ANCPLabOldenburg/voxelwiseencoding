{
 "cells": [
  {
   "cell_type": "code",
   "execution_count": null,
   "metadata": {},
   "outputs": [],
   "source": [
    "# default_exp encoding"
   ]
  },
  {
   "cell_type": "code",
   "execution_count": null,
   "metadata": {},
   "outputs": [],
   "source": [
    "#hide\n",
    "%load_ext autoreload\n",
    "%autoreload 2"
   ]
  },
  {
   "cell_type": "code",
   "execution_count": null,
   "metadata": {},
   "outputs": [],
   "source": [
    "#hide\n",
    "from nbdev.showdoc import *"
   ]
  },
  {
   "cell_type": "code",
   "execution_count": null,
   "metadata": {},
   "outputs": [],
   "source": [
    "#hide\n",
    "#export\n",
    "import numpy as np\n",
    "from sklearn.metrics import r2_score\n",
    "from sklearn.model_selection import KFold\n",
    "from sklearn.linear_model import RidgeCV\n",
    "import warnings\n",
    "import copy\n",
    "\n",
    "def product_moment_corr(x,y):\n",
    "    '''Product-moment correlation for two ndarrays x, y'''\n",
    "    from sklearn.preprocessing import StandardScaler\n",
    "    x = StandardScaler().fit_transform(x)\n",
    "    y = StandardScaler().fit_transform(y)\n",
    "    n = x.shape[0]\n",
    "    r = (1/(n-1))*(x*y).sum(axis=0)\n",
    "    return r"
   ]
  },
  {
   "cell_type": "markdown",
   "metadata": {},
   "source": [
    "# Training and validating voxel-wise encoding models\n",
    "> Functions for training independent Ridge regressions for a large number of voxels and validating their performance"
   ]
  },
  {
   "cell_type": "code",
   "execution_count": null,
   "metadata": {},
   "outputs": [],
   "source": [
    "#export\n",
    "\n",
    "def get_model_plus_scores(X, y, estimator=None, alphas=None, n_splits=8, scorer=None,\n",
    "                          voxel_selection=True, validation=True):\n",
    "    '''Returns multiple estimator trained in a cross-validation on n_splits of the data and scores on the left-out folds\n",
    "\n",
    "    Parameters\n",
    "\n",
    "        X : ndarray of shape (samples, features)\n",
    "        y : ndarray of shape (samples, targets)\n",
    "        estimator : None or estimator object that implements fit and predict\n",
    "                    if None, uses RidgeCV per default\n",
    "        n_splits : int, optional, number of cross-validation splits\n",
    "        scorer : None or any sci-kit learn compatible scoring function, optional\n",
    "                 default uses product moment correlation\n",
    "        voxel_selection : bool, optional, default True\n",
    "                          Whether to only use voxels with variance larger than zero.\n",
    "                          This will set scores for these voxels to zero.\n",
    "        validation : bool, optional, default True\n",
    "                     Whether to validate the model via cross-validation\n",
    "                     or to just train the estimator - if False, scores will be computed on the training set\n",
    "    Returns\n",
    "        tuple of n_splits estimators trained on training folds or single estimator if validation is False\n",
    "        and scores for all concatenated out-of-fold predictions'''\n",
    "    from sklearn.utils.estimator_checks import check_regressor_multioutput\n",
    "    if scorer is None:\n",
    "        scorer = product_moment_corr\n",
    "    kfold = KFold(n_splits=n_splits)\n",
    "    models = []\n",
    "    score_list = []\n",
    "    if estimator is None:\n",
    "        try:\n",
    "            estimator = RidgeCV(alpha_per_target=True)\n",
    "        except TypeError:\n",
    "            # sklearn version below 0.24\n",
    "            warnings.warn('scikit-learn version below 0.24.'\n",
    "                          'Voxels will not have individual regularization parameters.'\n",
    "                          'Update scikit-learn >= 0.24 to change.')\n",
    "            estimator = RidgeCV()\n",
    "        \n",
    "    if voxel_selection:\n",
    "        voxel_var = np.var(y, axis=0)\n",
    "        y = y[:, voxel_var > 0.]\n",
    "    if validation:\n",
    "        for train, test in kfold.split(X, y):\n",
    "            models.append(copy.deepcopy(estimator).fit(X[train], y[train]))\n",
    "            if voxel_selection:\n",
    "                scores = np.zeros_like(voxel_var)\n",
    "                scores[voxel_var > 0.] =  scorer(y[test], models[-1].predict(X[test]))\n",
    "            else:\n",
    "                scores = scorer(y[test], models[-1].predict(X[test]))\n",
    "            score_list.append(scores[:, None])\n",
    "        score_list = np.concatenate(score_list, axis=-1)\n",
    "    else:\n",
    "        models = estimator.fit(X, y)\n",
    "        score_list = scorer(y, estimator.predict(X))\n",
    "    return models, score_list"
   ]
  },
  {
   "cell_type": "markdown",
   "metadata": {},
   "source": [
    "`get_model_plus_scores` is a convenience function that trains `n_splits` Ridge regressions in a cross-validation scheme and evaluates their performance on the respective test set."
   ]
  },
  {
   "cell_type": "markdown",
   "metadata": {},
   "source": [
    "# Examples\n",
    "\n",
    "First, we create some simulated `stimulus` and `fmri` data."
   ]
  },
  {
   "cell_type": "code",
   "execution_count": null,
   "metadata": {},
   "outputs": [],
   "source": [
    "stimulus = np.random.randn(1000, 5)\n",
    "fmri = np.random.randn(1000, 10)"
   ]
  },
  {
   "cell_type": "markdown",
   "metadata": {},
   "source": [
    "## Using the default Ridge regression\n",
    "\n",
    "We can now use `get_model_plus_scores` to estimate multiple [RidgeCV](https://scikit-learn.org/stable/modules/generated/sklearn.linear_model.RidgeCV.html) regressions, one for each voxel (that maps the stimulus representation to this voxel) and one for each split (trained on a different training set and evaluated on the held-out set).\n",
    "Since sklearn's `RidgeCV` estimator allows multi-output, we get one `RidgeCV` object per split."
   ]
  },
  {
   "cell_type": "code",
   "execution_count": null,
   "metadata": {},
   "outputs": [
    {
     "data": {
      "text/plain": [
       "[RidgeCV(alpha_per_target=True, alphas=array([ 0.1,  1. , 10. ])),\n",
       " RidgeCV(alpha_per_target=True, alphas=array([ 0.1,  1. , 10. ])),\n",
       " RidgeCV(alpha_per_target=True, alphas=array([ 0.1,  1. , 10. ]))]"
      ]
     },
     "execution_count": null,
     "metadata": {},
     "output_type": "execute_result"
    }
   ],
   "source": [
    "ridges, scores = get_model_plus_scores(stimulus, fmri, n_splits=3)\n",
    "assert len(ridges) == 3\n",
    "ridges"
   ]
  },
  {
   "cell_type": "markdown",
   "metadata": {},
   "source": [
    "Each `RidgeCV` estimator maps from the feature space to each voxel.\n",
    "In our example, that means it has 10 (the number of voxels-9 independently trained regression models with 5 coeficients each (the number of features)."
   ]
  },
  {
   "cell_type": "code",
   "execution_count": null,
   "metadata": {},
   "outputs": [
    {
     "name": "stdout",
     "output_type": "stream",
     "text": [
      "[[-0.03148284 -0.03085741 -0.03709923 -0.03938465  0.00740931]\n",
      " [ 0.05844587 -0.03454859 -0.00971743  0.04779117  0.04717684]\n",
      " [-0.06610763  0.02024515 -0.00519406  0.01604151  0.06232265]\n",
      " [-0.00847565  0.01357303  0.04579654 -0.03709936  0.03114387]\n",
      " [ 0.01942072  0.0222861  -0.02364503  0.00061965  0.10216772]\n",
      " [ 0.00359469 -0.04175064 -0.0503723  -0.00041977 -0.05407095]\n",
      " [ 0.03992998 -0.00829027 -0.03257733  0.02132598 -0.02921803]\n",
      " [ 0.07730107 -0.03277048 -0.0112798  -0.10295067 -0.00743558]\n",
      " [-0.01648862 -0.00174828 -0.06699278 -0.05327637  0.01911227]\n",
      " [-0.01000438  0.00611579  0.00706875 -0.05508025  0.01144064]]\n"
     ]
    }
   ],
   "source": [
    "assert ridges[0].coef_.shape == (10, 5)\n",
    "print(ridges[0].coef_)"
   ]
  },
  {
   "cell_type": "markdown",
   "metadata": {},
   "source": [
    "We also get a set of scores (by default the [product moment correlation](https://en.wikipedia.org/wiki/Pearson_correlation_coefficient), but you can supply your own via the `scorer` argument) that specifies how well we predict left-out data (with the usual caveats of using a correlation coefficient for evaluating it). In our case it is of shape (10, 3) because we predict 10 voxels and use a 3-fold cross-validation, i.e. we split 3 times."
   ]
  },
  {
   "cell_type": "code",
   "execution_count": null,
   "metadata": {},
   "outputs": [
    {
     "data": {
      "text/plain": [
       "array([[-0.00489691, -0.04027173, -0.01674204],\n",
       "       [-0.06069225, -0.01664182, -0.04291744],\n",
       "       [ 0.04152938,  0.00532055, -0.01025946],\n",
       "       [ 0.06519698, -0.02780779, -0.04574611],\n",
       "       [ 0.02882572,  0.06493467, -0.00487824],\n",
       "       [ 0.00728804, -0.02319843,  0.01526909],\n",
       "       [-0.03650654, -0.04296925, -0.06727077],\n",
       "       [ 0.00508916,  0.07476689,  0.04086158],\n",
       "       [ 0.02566022,  0.06741255,  0.05066477],\n",
       "       [ 0.05676817, -0.0125262 ,  0.08245368]])"
      ]
     },
     "execution_count": null,
     "metadata": {},
     "output_type": "execute_result"
    }
   ],
   "source": [
    "assert scores.shape == (10, 3)\n",
    "scores"
   ]
  },
  {
   "cell_type": "markdown",
   "metadata": {},
   "source": [
    "## Using your own estimator\n",
    "\n",
    "Of course we can also use our own estimator function.\n",
    "For example, we use a `RidgeCV` object with pre-specified hyperparameters, like the values of the regularization parameter $\\alpha$ we want to perform a gridsearch over or whether we want to normalize features."
   ]
  },
  {
   "cell_type": "code",
   "execution_count": null,
   "metadata": {},
   "outputs": [],
   "source": [
    "alphas = [1, 10, 100]\n",
    "our_estimator = RidgeCV(alphas=alphas, normalize=True, alpha_per_target=True)\n",
    "\n",
    "ridges, scores = get_model_plus_scores(stimulus, fmri, our_estimator,\n",
    "                                       n_splits=3)\n",
    "assert ridges[0].normalize"
   ]
  },
  {
   "cell_type": "markdown",
   "metadata": {},
   "source": [
    "Additionally, we can use any other estimator that implements `fit` and `predict`.\n",
    "For example, we can use [CCA](https://scikit-learn.org/stable/modules/generated/sklearn.cross_decomposition.CCA.html) as an encoding model."
   ]
  },
  {
   "cell_type": "code",
   "execution_count": null,
   "metadata": {},
   "outputs": [],
   "source": [
    "from sklearn import cross_decomposition\n",
    "\n",
    "our_estimator = cross_decomposition.CCA(n_components=2)\n",
    "\n",
    "ccas, scores = get_model_plus_scores(stimulus, fmri, our_estimator,\n",
    "                                       n_splits=3)\n",
    "assert type(ccas[0]) == cross_decomposition._pls.CCA"
   ]
  },
  {
   "cell_type": "markdown",
   "metadata": {},
   "source": [
    "If your favorite estimator does not work in the multioutput regime, i.e. it cannot predict multiple targets/voxels, then `get_model_plus_scores` will wrap it into sklearn's [MultiOutputRegressor](https://scikit-learn.org/stable/modules/generated/sklearn.multioutput.MultiOutputRegressor.html) by default. However, for many voxels this can increase training time by a lot."
   ]
  },
  {
   "cell_type": "code",
   "execution_count": null,
   "metadata": {},
   "outputs": [
    {
     "data": {
      "text/plain": [
       "[MultiOutputRegressor(estimator=Lasso()),\n",
       " MultiOutputRegressor(estimator=Lasso()),\n",
       " MultiOutputRegressor(estimator=Lasso())]"
      ]
     },
     "execution_count": null,
     "metadata": {},
     "output_type": "execute_result"
    }
   ],
   "source": [
    "from sklearn.linear_model import Lasso\n",
    "from sklearn.multioutput import MultiOutputRegressor\n",
    "\n",
    "our_estimator = MultiOutputRegressor(Lasso())\n",
    "\n",
    "lassos, scores = get_model_plus_scores(stimulus, fmri, our_estimator,\n",
    "                                       n_splits=3)\n",
    "lassos"
   ]
  },
  {
   "cell_type": "markdown",
   "metadata": {},
   "source": [
    "## Training without validation\n",
    "\n",
    "We can also train an estimator without any validation, if, for example we want to test on a different dataset. In that case, the scores will be computed with the trained estimator on the training set, i.e. they will contain no information about the generalization performance of the estimator."
   ]
  },
  {
   "cell_type": "code",
   "execution_count": null,
   "metadata": {},
   "outputs": [],
   "source": [
    "our_estimator = RidgeCV()\n",
    "\n",
    "model, scores = get_model_plus_scores(stimulus, fmri, our_estimator,\n",
    "                                       validation=False)\n",
    "assert type(model) == RidgeCV\n",
    "assert scores.shape == (10,)"
   ]
  }
 ],
 "metadata": {
  "kernelspec": {
   "display_name": "Python (mne)",
   "language": "python",
   "name": "mne"
  }
 },
 "nbformat": 4,
 "nbformat_minor": 2
}
